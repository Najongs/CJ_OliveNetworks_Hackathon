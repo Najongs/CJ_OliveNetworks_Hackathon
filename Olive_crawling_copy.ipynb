{
 "cells": [
  {
   "cell_type": "markdown",
   "metadata": {},
   "source": [
    "## CJ 올리브영 스킨케어 상품군 리뷰 데이터 크롤링 "
   ]
  },
  {
   "cell_type": "markdown",
   "metadata": {},
   "source": [
    "### import"
   ]
  },
  {
   "cell_type": "code",
   "execution_count": 59,
   "metadata": {},
   "outputs": [
    {
     "name": "stdout",
     "output_type": "stream",
     "text": [
      "Collecting webdriver-manager\n",
      "  Obtaining dependency information for webdriver-manager from https://files.pythonhosted.org/packages/19/5a/a16653bfce685c9832217d377f52065351eeac9862e44e2996cd81f3bb4d/webdriver_manager-4.0.0-py2.py3-none-any.whl.metadata\n",
      "  Downloading webdriver_manager-4.0.0-py2.py3-none-any.whl.metadata (11 kB)\n",
      "Collecting requests (from webdriver-manager)\n",
      "  Obtaining dependency information for requests from https://files.pythonhosted.org/packages/70/8e/0e2d847013cb52cd35b38c009bb167a1a26b2ce6cd6965bf26b47bc0bf44/requests-2.31.0-py3-none-any.whl.metadata\n",
      "  Downloading requests-2.31.0-py3-none-any.whl.metadata (4.6 kB)\n",
      "Collecting python-dotenv (from webdriver-manager)\n",
      "  Downloading python_dotenv-1.0.0-py3-none-any.whl (19 kB)\n",
      "Requirement already satisfied: packaging in /Users/najong-yeol/miniconda3/envs/nlp/lib/python3.8/site-packages (from webdriver-manager) (23.1)\n",
      "Collecting charset-normalizer<4,>=2 (from requests->webdriver-manager)\n",
      "  Obtaining dependency information for charset-normalizer<4,>=2 from https://files.pythonhosted.org/packages/9c/71/bf12b8e0d6e1d84ed29c3e16ea1efc47ae96487bde823130d12139c434a0/charset_normalizer-3.2.0-cp38-cp38-macosx_11_0_arm64.whl.metadata\n",
      "  Downloading charset_normalizer-3.2.0-cp38-cp38-macosx_11_0_arm64.whl.metadata (31 kB)\n",
      "Requirement already satisfied: idna<4,>=2.5 in /Users/najong-yeol/miniconda3/envs/nlp/lib/python3.8/site-packages (from requests->webdriver-manager) (3.4)\n",
      "Requirement already satisfied: urllib3<3,>=1.21.1 in /Users/najong-yeol/miniconda3/envs/nlp/lib/python3.8/site-packages (from requests->webdriver-manager) (2.0.4)\n",
      "Requirement already satisfied: certifi>=2017.4.17 in /Users/najong-yeol/miniconda3/envs/nlp/lib/python3.8/site-packages (from requests->webdriver-manager) (2023.7.22)\n",
      "Downloading webdriver_manager-4.0.0-py2.py3-none-any.whl (27 kB)\n",
      "Downloading requests-2.31.0-py3-none-any.whl (62 kB)\n",
      "\u001b[2K   \u001b[90m━━━━━━━━━━━━━━━━━━━━━━━━━━━━━━━━━━━━━━━━\u001b[0m \u001b[32m62.6/62.6 kB\u001b[0m \u001b[31m7.1 MB/s\u001b[0m eta \u001b[36m0:00:00\u001b[0m\n",
      "\u001b[?25hDownloading charset_normalizer-3.2.0-cp38-cp38-macosx_11_0_arm64.whl (122 kB)\n",
      "\u001b[2K   \u001b[90m━━━━━━━━━━━━━━━━━━━━━━━━━━━━━━━━━━━━━━━━\u001b[0m \u001b[32m123.0/123.0 kB\u001b[0m \u001b[31m7.9 MB/s\u001b[0m eta \u001b[36m0:00:00\u001b[0m\n",
      "\u001b[?25hInstalling collected packages: python-dotenv, charset-normalizer, requests, webdriver-manager\n",
      "Successfully installed charset-normalizer-3.2.0 python-dotenv-1.0.0 requests-2.31.0 webdriver-manager-4.0.0\n"
     ]
    }
   ],
   "source": [
    "# !pip install selenium\n",
    "# !pip install tqdm\n",
    "# !pip install beautifulsoup4\n",
    "# !pip install pyautogui\n",
    "# !pip install pandas\n",
    "# !pip install webdriver-manager"
   ]
  },
  {
   "cell_type": "code",
   "execution_count": 14,
   "metadata": {},
   "outputs": [],
   "source": [
    "import time\n",
    "import os\n",
    "import pyautogui as pag\n",
    "from selenium import webdriver\n",
    "from bs4 import BeautifulSoup\n",
    "from tqdm import tqdm_notebook\n",
    "import warnings\n",
    "warnings.filterwarnings('ignore')"
   ]
  },
  {
   "cell_type": "code",
   "execution_count": 33,
   "metadata": {},
   "outputs": [],
   "source": [
    "# table 정도 한번에 불러오는 html_table_paser의 make2d 기능 test\n",
    "\n",
    "from urllib.request import urlopen\n",
    "from bs4 import BeautifulSoup\n",
    "from selenium.webdriver.support.ui import Select\n",
    "import pandas as pd"
   ]
  },
  {
   "cell_type": "code",
   "execution_count": 69,
   "metadata": {},
   "outputs": [],
   "source": [
    "from selenium import webdriver # webdriver를 이용해 해당 브라우저를 열기 위해\n",
    "from selenium.webdriver import ActionChains # 일련의 작업들을(ex.아이디 입력, 비밀번호 입력, 로그인 버튼 클릭...) 연속적으로 실행할 수 있게 하기 위해\n",
    "from selenium.webdriver.common.keys import Keys # 키보드 입력을 할 수 있게 하기 위해\n",
    "from selenium.webdriver.common.by import By # html요소 탐색을 할 수 있게 하기 위해\n",
    "from selenium.webdriver.support.ui import WebDriverWait # 브라우저의 응답을 기다릴 수 있게 하기 위해\n",
    "from selenium.webdriver.support import expected_conditions as EC # html요소의 상태를 체크할 수 있게 하기 위해\n",
    "# 이 외에도 필요한 모듈이 있다면 따로 호출해준다."
   ]
  },
  {
   "cell_type": "code",
   "execution_count": 72,
   "metadata": {},
   "outputs": [],
   "source": [
    "# 올리브영 상품 페이지 접근 \n",
    "url = \"https://www.oliveyoung.co.kr/store/goods/getGoodsDetail.do?goodsNo=A000000186966&dispCatNo=100000100010008&trackingCd=Cat100000100010008_MID&t_page=%EC%B9%B4%ED%85%8C%EA%B3%A0%EB%A6%AC%EA%B4%80&t_click=%ED%86%A0%EB%84%88/%EB%A1%9C%EC%85%98/%EC%98%AC%EC%9D%B8%EC%9B%90_%EC%A0%84%EC%B2%B4__%EC%83%81%ED%92%88%EC%83%81%EC%84%B8&t_number=1\"\n",
    "driver = webdriver.Chrome()\n",
    "driver.get(url)"
   ]
  },
  {
   "cell_type": "code",
   "execution_count": 74,
   "metadata": {},
   "outputs": [],
   "source": [
    "# 리뷰 페이지 접근 \n",
    "review = driver.find_element(By.CSS_SELECTOR, '#reviewInfo > a').click()"
   ]
  },
  {
   "cell_type": "code",
   "execution_count": 75,
   "metadata": {},
   "outputs": [],
   "source": [
    "# 리뷰 페이지 전환\n",
    "page = driver.find_element(By.CSS_SELECTOR, '#gdasContentsArea > div > div.pageing > a:nth-child(2)')\n",
    "page.click()"
   ]
  },
  {
   "cell_type": "markdown",
   "metadata": {},
   "source": [
    "#### feature name \n",
    "- name :  상품명\n",
    "- brand : 브랜드명\n",
    "- price :  정가\n",
    "- sale_price : 할인가\n",
    "- date : 게시 날짜\n",
    "- rate : 평점\n",
    "- name : 닉네임\n",
    "- skin_type : 고객타입 ex. 복합성, 민감성, 잡티\n",
    "- purchase_type : 구매 타입 ex. 재구매, 한달이상사용\n",
    "- select_1 : 피부타입   ex. 복합성에 좋아요\n",
    "- select_2 : 피부고민  ex. 진정에 좋아요 \n",
    "- select_3 : 자극도 ex. 자극없이 순해요 \n",
    "- txt : 리뷰 텍스트"
   ]
  },
  {
   "cell_type": "markdown",
   "metadata": {},
   "source": [
    "### 1. 스킨케어-토너/로션/올인원-스킨/토너 제품군 크롤링 test"
   ]
  },
  {
   "cell_type": "markdown",
   "metadata": {},
   "source": [
    "#### 1-1 상품 기본 정보 가져오기 (상품명, 브랜드명, 정가, 할인가)"
   ]
  },
  {
   "cell_type": "code",
   "execution_count": 77,
   "metadata": {},
   "outputs": [
    {
     "data": {
      "text/plain": [
       "('[7월올영픽/대용량] 라운드랩 1025 독도 토너 500ml+200ml 기획(+소나무 클렌저 10ml 증정)',\n",
       " '라운드랩',\n",
       " '45,000',\n",
       " '29,800')"
      ]
     },
     "execution_count": 77,
     "metadata": {},
     "output_type": "execute_result"
    }
   ],
   "source": [
    "# 상품명, 브랜드명, 정가, 할인가 크롤링\n",
    "name = driver.find_element(By.CSS_SELECTOR,\"#Contents > div.prd_detail_box.renew > div.right_area > div > p.prd_name\")\n",
    "brand = driver.find_element(By.CSS_SELECTOR,\"#Contents > div.prd_detail_box.renew > div.right_area > div > p.prd_brand\")\n",
    "price = driver.find_element(By.CSS_SELECTOR,\"#Contents > div.prd_detail_box.renew > div.right_area > div > div.price > span.price-1 > strike\")\n",
    "sale_price = driver.find_element(By.CSS_SELECTOR,\"#Contents > div.prd_detail_box.renew > div.right_area > div > div.price > span.price-2 > strong\")\n",
    "name.text, brand.text, price.text, sale_price.text"
   ]
  },
  {
   "cell_type": "code",
   "execution_count": 78,
   "metadata": {},
   "outputs": [
    {
     "data": {
      "text/plain": [
       "('[7월올영픽/대용량] 라운드랩 1025 독도 토너 500ml+200ml 기획(+소나무 클렌저 10ml 증정)',\n",
       " '라운드랩',\n",
       " 45000,\n",
       " 29800)"
      ]
     },
     "execution_count": 78,
     "metadata": {},
     "output_type": "execute_result"
    }
   ],
   "source": [
    "# 텍스트 추출 \n",
    "# price 정보는 str 형태이기 때문에 콤마 제거하고 int 형태로 변환 \n",
    "name = name.text\n",
    "brand = brand.text\n",
    "price = int(price.text.replace(\",\", \"\"))\n",
    "sale_price = int(sale_price.text.replace(\",\", \"\"))\n",
    "name, brand, price, sale_price"
   ]
  },
  {
   "cell_type": "markdown",
   "metadata": {},
   "source": [
    "### 1-2 리뷰 데이터 가져오기 "
   ]
  },
  {
   "cell_type": "markdown",
   "metadata": {},
   "source": [
    "- date : 게시 날짜\n",
    "- rate : 평점\n",
    "- id : 닉네임\n",
    "- skin_type : 고객타입 ex. 복합성, 민감성, 잡티\n",
    "- purchase_type : 구매 타입 ex. 재구매, 한달이상사용\n",
    "- select_1 : 피부타입   ex. 복합성에 좋아요\n",
    "- select_2 : 피부고민  ex. 진정에 좋아요 \n",
    "- select_3 : 자극도 ex. 자극없이 순해요 \n",
    "- txt : 리뷰 텍스트"
   ]
  },
  {
   "cell_type": "code",
   "execution_count": 42,
   "metadata": {},
   "outputs": [],
   "source": [
    "date = driver.find_element_by_css_selector('#gdasList > li:nth-child(1) > div.review_cont > div.score_area > span.date')\n",
    "rate = driver.find_element_by_css_selector('#gdasList > li:nth-child(1) > div.review_cont > div.score_area > span.review_point > span')\n",
    "id = driver.find_element_by_css_selector('#gdasList > li:nth-child(1) > div.info > div > p.info_user > a.id')\n",
    "skin_type = driver.find_element_by_css_selector('#gdasList > li:nth-child(2) > div.review_cont > div.poll_sample > dl:nth-child(1) > dd > span')\n",
    "# 한달이상사용 \n",
    "# purchase_type = driver.find_element_by_css_selector('#gdasList > li:nth-child(4) > div.info > div > div > div > a')\n",
    "# 재구매\n",
    "purchase_type_2 = driver.find_element_by_css_selector('#gdasList > li:nth-child(9) > div.info > div > div > div:nth-child(1) > a')\n",
    "select_1_title = driver.find_element_by_css_selector('#gdasList > li:nth-child(1) > div.review_cont > div.poll_sample > dl:nth-child(1) > dt > span')\n",
    "select_1_content = driver.find_element_by_css_selector('#gdasList > li:nth-child(1) > div.review_cont > div.poll_sample > dl:nth-child(1) > dd > span')\n",
    "select_2_title = driver.find_element_by_css_selector('#gdasList > li:nth-child(1) > div.review_cont > div.poll_sample > dl:nth-child(2) > dt > span')\n",
    "select_2_content = driver.find_element_by_css_selector('#gdasList > li:nth-child(1) > div.review_cont > div.poll_sample > dl:nth-child(2) > dd > span')\n",
    "select_3_title = driver.find_element_by_css_selector('#gdasList > li:nth-child(1) > div.review_cont > div.poll_sample > dl:nth-child(3) > dt > span')\n",
    "select_3_content = driver.find_element_by_css_selector('#gdasList > li:nth-child(1) > div.review_cont > div.poll_sample > dl:nth-child(3) > dd > span')\n",
    "txt = driver.find_element_by_css_selector('#gdasList > li:nth-child(1) > div.review_cont > div.txt_inner')"
   ]
  },
  {
   "cell_type": "code",
   "execution_count": 43,
   "metadata": {},
   "outputs": [
    {
     "data": {
      "text/plain": [
       "('2023.07.19',\n",
       " '5점만점에 5점',\n",
       " '흰모찌이',\n",
       " '복합성에 좋아요',\n",
       " '피부타입',\n",
       " '복합성에 좋아요',\n",
       " '피부고민',\n",
       " '진정에 좋아요',\n",
       " '자극도',\n",
       " '자극없이 순해요',\n",
       " '\\U0001fae0녹는 여름 ...이 더위에 지친 피부를 진정 시키기에\\n토너 팩 만한 팩이 없는거 같아요 !!!!\\n그래서 이 토너 저 토너 많이 해봤지만\\n역시 믿고사는 라운드랩 독도 토너 ....\\n\\U0001fae0\\U0001fae0토너팩으로 해서 피부에 얹어주면\\n진정 뽝 됩니다 !!\\n\\n보습감이 있는 토너는 아니다 보니\\n토너팩 하신후 크림으로 마무리 하시면 좋을거 같아요 😘')"
      ]
     },
     "execution_count": 43,
     "metadata": {},
     "output_type": "execute_result"
    }
   ],
   "source": [
    "date = date.text\n",
    "rate = rate.text\n",
    "id = id.text\n",
    "skin_type = skin_type.text\n",
    "# purchase_type = purchase_type.text\n",
    "select_1_title = select_1_title.text\n",
    "select_1_content = select_1_content.text\n",
    "select_2_title = select_2_title.text\n",
    "select_2_content = select_2_content.text\n",
    "select_3_title = select_3_title.text\n",
    "select_3_content = select_3_content.text\n",
    "txt = txt.text\n",
    "date, rate, id, skin_type, select_1_title, select_1_content, select_2_title, select_2_content, select_3_title, select_3_content, txt"
   ]
  },
  {
   "cell_type": "markdown",
   "metadata": {},
   "source": [
    "### 2. 크롤링 자동화 "
   ]
  },
  {
   "cell_type": "code",
   "execution_count": 86,
   "metadata": {},
   "outputs": [],
   "source": [
    "page = driver.find_element_by_css_selector('#gdasContentsArea > div > div.pageing > a:nth-child(12)')\n",
    "page.click()"
   ]
  },
  {
   "cell_type": "code",
   "execution_count": 95,
   "metadata": {},
   "outputs": [
    {
     "data": {
      "text/plain": [
       "'7'"
      ]
     },
     "execution_count": 95,
     "metadata": {},
     "output_type": "execute_result"
    }
   ],
   "source": [
    "current_page = driver.find_element_by_css_selector('#gdasContentsArea > div > div.pageing > strong')\n",
    "current_page.text"
   ]
  },
  {
   "cell_type": "code",
   "execution_count": 114,
   "metadata": {},
   "outputs": [],
   "source": [
    "# try:\n",
    "for j in range(1, 11):  \n",
    "    current_page = driver.find_element_by_css_selector('#gdasContentsArea > div > div.pageing > strong')\n",
    "    if current_page.text == str(10*i+j):     # 현재 페이지와 클릭할 페이지 번호가 동일하면 페이지 클릭 없이 그대로 크롤링 진행\n",
    "        pass    \n",
    "    else:    # 현재 페이지와 클릭할 페이지 번호가 다르면 페이지 클릭 후 변경된 페이지에서 크롤링 진행\n",
    "            page = driver.find_element_by_css_selector('#gdasContentsArea > div > div.pageing > a:nth-child({})'.format(10*i+j))\n",
    "            page.click()\n",
    "            time.sleep(0.5)"
   ]
  },
  {
   "cell_type": "code",
   "execution_count": null,
   "metadata": {},
   "outputs": [],
   "source": [
    "# 해당 제품 내 모든 리뷰 크롤링\n",
    "# 리뷰 페이지 전환\n",
    "# 첫 리뷰 페이지에서 1번째 페이지는 클릭이 안된다 => 현재 페이지가 어디인지 확인해서 현재 페이지와 동일하지 않으면 해당 버튼 클릭하는 코드 추가 \n",
    "\n",
    "for i in range(2): # 제품 내 넘기기 페이지 수 (임의 지정) => 언제까지?\n",
    "    current_page = driver.find_element_by_css_selector('#gdasContentsArea > div > div.pageing > strong')\n",
    "    for j in range(1, 11):  \n",
    "            if current_page.text == str(10*i+j):     # 현재 페이지와 클릭할 페이지 번호가 동일하면 크롤링 후 다음페이지 클릭\n",
    "                page = driver.find_element_by_css_selector('#gdasContentsArea > div > div.pageing > a:nth-child({})'.format(10*i+j+1))\n",
    "            else:    # 현재 페이지와 클릭할 페이지 번호가 다르면 페이지 클릭 후 변경된 페이지에서 크롤링 진행\n",
    "                    page = driver.find_element_by_css_selector('#gdasContentsArea > div > div.pageing > a:nth-child({})'.format(10*i+j))\n",
    "                    page.click()\n",
    "                    time.sleep(0.5)\n",
    "        # except:\n",
    "        #     print(i*10+j)\n",
    "        #     print('i:', i, 'j:', j)\n",
    "    next_page = driver.find_element_by_css_selector('#gdasContentsArea > div > div.pageing > a.next')\n",
    "    next_page.click()   \n",
    "    time.sleep(0.5)\n",
    "# except:\n",
    "#     print(i, j)"
   ]
  },
  {
   "cell_type": "code",
   "execution_count": 88,
   "metadata": {},
   "outputs": [],
   "source": [
    "next_page = driver.find_element_by_css_selector('#gdasContentsArea > div > div.pageing > a.next')\n",
    "next_page.click()"
   ]
  },
  {
   "cell_type": "markdown",
   "metadata": {},
   "source": [
    "### 3. 한 페이지 리뷰 데이터 크롤링 후 데이퍼 프레임 변환 "
   ]
  },
  {
   "cell_type": "code",
   "execution_count": null,
   "metadata": {},
   "outputs": [],
   "source": [
    "# 리뷰 데이터 크롤링 \n",
    "# 재구매, 한달사용후기 제외하고 진행 \n",
    "name = driver.find_element_by_css_selector(\"#Contents > div.prd_detail_box.renew > div.right_area > div > p.prd_name\").text\n",
    "brand = driver.find_element_by_css_selector(\"#Contents > div.prd_detail_box.renew > div.right_area > div > p.prd_brand\").text\n",
    "price = int(driver.find_element_by_css_selector(\"#Contents > div.prd_detail_box.renew > div.right_area > div > div.price > span.price-1 > strike\").text.replace(\",\", \"\"))\n",
    "sale_price = int(driver.find_element_by_css_selector(\"#Contents > div.prd_detail_box.renew > div.right_area > div > div.price > span.price-2 > strong\").text.replace(\",\", \"\"))\n",
    "date = driver.find_element_by_css_selector('#gdasList > li:nth-child(1) > div.review_cont > div.score_area > span.date').text\n",
    "rate = driver.find_element_by_css_selector('#gdasList > li:nth-child(1) > div.review_cont > div.score_area > span.review_point > span').text\n",
    "id = driver.find_element_by_css_selector('#gdasList > li:nth-child(1) > div.info > div > p.info_user > a.id').text\n",
    "skin_type = driver.find_element_by_css_selector('#gdasList > li:nth-child(2) > div.review_cont > div.poll_sample > dl:nth-child(1) > dd > span').text\n",
    "purchase_type_2 = driver.find_element_by_css_selector('#gdasList > li:nth-child(9) > div.info > div > div > div:nth-child(1) > a').text\n",
    "select_1_title = driver.find_element_by_css_selector('#gdasList > li:nth-child(1) > div.review_cont > div.poll_sample > dl:nth-child(1) > dt > span').text\n",
    "select_1_content = driver.find_element_by_css_selector('#gdasList > li:nth-child(1) > div.review_cont > div.poll_sample > dl:nth-child(1) > dd > span').text\n",
    "select_2_title = driver.find_element_by_css_selector('#gdasList > li:nth-child(1) > div.review_cont > div.poll_sample > dl:nth-child(2) > dt > span').text\n",
    "select_2_content = driver.find_element_by_css_selector('#gdasList > li:nth-child(1) > div.review_cont > div.poll_sample > dl:nth-child(2) > dd > span').text\n",
    "select_3_title = driver.find_element_by_css_selector('#gdasList > li:nth-child(1) > div.review_cont > div.poll_sample > dl:nth-child(3) > dt > span').text\n",
    "select_3_content = driver.find_element_by_css_selector('#gdasList > li:nth-child(1) > div.review_cont > div.poll_sample > dl:nth-child(3) > dd > span').text\n",
    "txt = driver.find_element_by_css_selector('#gdasList > li:nth-child(1) > div.review_cont > div.txt_inner').text"
   ]
  },
  {
   "cell_type": "code",
   "execution_count": null,
   "metadata": {},
   "outputs": [],
   "source": [
    "#gdasList > li:nth-child(1) > div.review_cont > div.txt_inner"
   ]
  },
  {
   "cell_type": "markdown",
   "metadata": {},
   "source": [
    "#gdasList > li:nth-child(1)"
   ]
  }
 ],
 "metadata": {
  "kernelspec": {
   "display_name": "ds_study",
   "language": "python",
   "name": "python3"
  },
  "language_info": {
   "codemirror_mode": {
    "name": "ipython",
    "version": 3
   },
   "file_extension": ".py",
   "mimetype": "text/x-python",
   "name": "python",
   "nbconvert_exporter": "python",
   "pygments_lexer": "ipython3",
   "version": "3.8.17"
  },
  "orig_nbformat": 4
 },
 "nbformat": 4,
 "nbformat_minor": 2
}
