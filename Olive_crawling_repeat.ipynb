{
 "cells": [
  {
   "cell_type": "code",
   "execution_count": 1,
   "metadata": {},
   "outputs": [],
   "source": [
    "# !pip install selenium\n",
    "# !pip install tqdm\n",
    "# !pip install beautifulsoup4\n",
    "# !pip install pyautogui\n",
    "# !pip install pandas\n",
    "# !pip install webdriver-manager\n",
    "\n",
    "import time\n",
    "import os\n",
    "import pyautogui as pag\n",
    "from bs4 import BeautifulSoup\n",
    "from tqdm import tqdm_notebook\n",
    "import warnings\n",
    "warnings.filterwarnings('ignore')\n",
    "# table 정도 한번에 불러오는 html_table_paser의 make2d 기능 test\n",
    "\n",
    "from urllib.request import urlopen\n",
    "from bs4 import BeautifulSoup\n",
    "from selenium.webdriver.support.ui import Select\n",
    "import pandas as pd\n",
    "\n",
    "from selenium import webdriver # webdriver를 이용해 해당 브라우저를 열기 위해\n",
    "from selenium.webdriver import ActionChains # 일련의 작업들을(ex.아이디 입력, 비밀번호 입력, 로그인 버튼 클릭...) 연속적으로 실행할 수 있게 하기 위해\n",
    "from selenium.webdriver.common.keys import Keys # 키보드 입력을 할 수 있게 하기 위해\n",
    "from selenium.webdriver.common.by import By # html요소 탐색을 할 수 있게 하기 위해\n",
    "from selenium.webdriver.support.ui import WebDriverWait # 브라우저의 응답을 기다릴 수 있게 하기 위해\n",
    "from selenium.webdriver.support import expected_conditions as EC # html요소의 상태를 체크할 수 있게 하기 위해\n",
    "# 이 외에도 필요한 모듈이 있다면 따로 호출해준다."
   ]
  },
  {
   "cell_type": "code",
   "execution_count": 2,
   "metadata": {},
   "outputs": [],
   "source": [
    "#카테고리 페이지 실행\n",
    "url = \"https://www.oliveyoung.co.kr/store/display/getCategoryShop.do?dispCatNo=10000010001&gateCd=Drawer&t_page=%EB%93%9C%EB%A1%9C%EC%9A%B0_%EC%B9%B4%ED%85%8C%EA%B3%A0%EB%A6%AC&t_click=%EC%B9%B4%ED%85%8C%EA%B3%A0%EB%A6%AC%ED%83%AD_%EB%8C%80%EC%B9%B4%ED%85%8C%EA%B3%A0%EB%A6%AC&t_1st_category_type=%EB%8C%80_%EC%8A%A4%ED%82%A8%EC%BC%80%EC%96%B4\"\n",
    "driver = webdriver.Chrome()\n",
    "driver.get(url)"
   ]
  },
  {
   "cell_type": "code",
   "execution_count": 34,
   "metadata": {},
   "outputs": [
    {
     "name": "stdout",
     "output_type": "stream",
     "text": [
      "현재는 토너/로션/올인원 입니다.\n",
      "현재 항목은 스킨/토너입니다.\n",
      "항목을 48개씩 보겠습니다.\n",
      "페이지 항목은 ['1', '2', '3', '4', '5', '6', '7', '8']입니다.\n",
      "현재는 1페이지 입니다.\n",
      "1행에 1열의 항목이 스크랩되었습니다.\n",
      "1행에 2열의 항목이 스크랩되었습니다.\n",
      "1행에 3열의 항목이 스크랩되었습니다.\n",
      "1행에 4열의 항목이 스크랩되었습니다.\n",
      "2행에 1열의 항목이 스크랩되었습니다.\n",
      "2행에 2열의 항목이 스크랩되었습니다.\n",
      "2행에 3열의 항목이 스크랩되었습니다.\n",
      "2행에 4열의 항목이 스크랩되었습니다.\n",
      "3행에 1열의 항목이 스크랩되었습니다.\n",
      "3행에 2열의 항목이 스크랩되었습니다.\n",
      "3행에 3열의 항목이 스크랩되었습니다.\n",
      "3행에 4열의 항목이 스크랩되었습니다.\n"
     ]
    },
    {
     "ename": "KeyboardInterrupt",
     "evalue": "",
     "output_type": "error",
     "traceback": [
      "\u001b[0;31m---------------------------------------------------------------------------\u001b[0m",
      "\u001b[0;31mKeyboardInterrupt\u001b[0m                         Traceback (most recent call last)",
      "Cell \u001b[0;32mIn[34], line 64\u001b[0m\n\u001b[1;32m     62\u001b[0m product \u001b[39m=\u001b[39m driver\u001b[39m.\u001b[39mfind_element(By\u001b[39m.\u001b[39mCSS_SELECTOR, \u001b[39mf\u001b[39m\u001b[39m'\u001b[39m\u001b[39m#Contents > ul:nth-child(\u001b[39m\u001b[39m{\u001b[39;00mrow\u001b[39m}\u001b[39;00m\u001b[39m) > li.flag > div > a > img\u001b[39m\u001b[39m'\u001b[39m)\u001b[39m.\u001b[39mclick()\n\u001b[1;32m     63\u001b[0m reviews \u001b[39m=\u001b[39m driver\u001b[39m.\u001b[39mfind_element(By\u001b[39m.\u001b[39mCSS_SELECTOR, \u001b[39m'\u001b[39m\u001b[39m#reviewInfo > a\u001b[39m\u001b[39m'\u001b[39m)\u001b[39m.\u001b[39mclick()\n\u001b[0;32m---> 64\u001b[0m time\u001b[39m.\u001b[39;49msleep(\u001b[39m3\u001b[39;49m) \u001b[39m#페이지가 넘어가면서 로딩이 느리면 중간에 멈춥니다. 타이머를 조절해주세요.\u001b[39;00m\n\u001b[1;32m     66\u001b[0m \u001b[39m#상품이 클릭된 페이지 입니다. 여기서 상품 정보를 긁어오는 코드를 넣으시면 됩니다.\u001b[39;00m\n\u001b[1;32m     68\u001b[0m \u001b[39mprint\u001b[39m(\u001b[39mf\u001b[39m\u001b[39m\"\u001b[39m\u001b[39m{\u001b[39;00mrow\u001b[39m-\u001b[39m\u001b[39m6\u001b[39m\u001b[39m}\u001b[39;00m\u001b[39m행에 \u001b[39m\u001b[39m{\u001b[39;00mcol\u001b[39m}\u001b[39;00m\u001b[39m열의 항목이 스크랩되었습니다.\u001b[39m\u001b[39m\"\u001b[39m)\n",
      "\u001b[0;31mKeyboardInterrupt\u001b[0m: "
     ]
    }
   ],
   "source": [
    "#전체 크롤링 진행\n",
    "for cos in range(1, 4):\n",
    "    #품목창 들어가기\n",
    "    review_text = driver.find_element(By.CSS_SELECTOR, f'#Contents > div > div.ct-menu > ul > li:nth-child({cos}) > a > span').text\n",
    "    review = driver.find_element(By.CSS_SELECTOR, f'#Contents > div > div.ct-menu > ul > li:nth-child({cos}) > a > span').click()\n",
    "    print(f\"현재는 {review_text} 입니다.\")\n",
    "\n",
    "    #화장품 품목별 개수 확인\n",
    "    cos_list = driver.find_element(By.CSS_SELECTOR, \"#Contents > ul.cate_list_box\").text\n",
    "    cos_lists = list(cos_list.split('\\n'))\n",
    "\n",
    "    for skincare1 in range(2, len(cos_lists)):\n",
    "        #항목으로 들어갑니다.\n",
    "        select_skin = driver.find_element(By.CSS_SELECTOR, f'#Contents > ul.cate_list_box > li:nth-child({skincare1}) > a').click()\n",
    "        time.sleep(1) #페이지가 넘어가면서 로딩이 느리면 중간에 멈춥니다. 타이머를 조절해주세요.\n",
    "        \n",
    "        #현재 화장품 종류 확인_이 변수를 데이터 셋에 넣어주면 됩니다.\n",
    "        cosmetics = driver.find_element(By.CSS_SELECTOR, f'#Contents > ul.cate_list_box > li:nth-child({skincare1}) > a').text\n",
    "        print(f\"현재 항목은 {cosmetics}입니다.\")\n",
    "\n",
    "        #48개씩 보기\n",
    "        select_show = driver.find_element(By.CSS_SELECTOR, '#Contents > div.cate_align_box > div.count_sort.tx_num > ul > li:nth-child(3) > a').click()\n",
    "        time.sleep(2) #페이지가 넘어가면서 로딩이 느리면 중간에 멈춥니다. 타이머를 조절해주세요.\n",
    "        print('항목을 48개씩 보겠습니다.')\n",
    "\n",
    "        #페이지 리스트 만들기\n",
    "        next_pages = []\n",
    "        pre_pages = []\n",
    "        page = driver.find_element(By.CSS_SELECTOR, '#Container > div.pageing').text\n",
    "        pages = list(page.split())\n",
    "        if '다음' in pages: #다음 페이지 버튼이 있으면 확인합니다.\n",
    "                select_page = driver.find_element(By.CSS_SELECTOR, '#Container > div.pageing > a.next').click()\n",
    "                time.sleep(1) #페이지가 넘어가면서 로딩이 느리면 중간에 멈춥니다. 타이머를 조절해주세요.\n",
    "                \n",
    "                #다음 페이지의 리스트를 만듭니다.\n",
    "                next_page = driver.find_element(By.CSS_SELECTOR, '#Container > div.pageing').text\n",
    "                next_pages = list(next_page.split())\n",
    "                next_pages = next_pages[3:]\n",
    "                driver.back() \n",
    "        pre_pages = pages[:10]\n",
    "        pages = pre_pages + next_pages #다음장의 페이지 항목을 더해줍니다.(최대 20페이지가 넘지 않는다는 상황에서 작동합니다.)\n",
    "        print(f'페이지 항목은 {pages}입니다.')\n",
    "\n",
    "        for now_page in pages: #페이지 항목 수 만큼 반복하여 진행합니다.\n",
    "            now_pages = int(now_page)\n",
    "            if now_pages==1 or 10 or 11:  #1,11번 페이지는 다른 주소명을 갖고 있어 pass로 넘겼습니다. \n",
    "                pass\n",
    "\n",
    "            elif now_pages > 10:\n",
    "                select_page = driver.find_element(By.CSS_SELECTOR, f'#Container > div.pageing > a:nth-child({now_pages})').click()\n",
    "                time.sleep(1) #페이지가 넘어가면서 로딩이 느리면 중간에 멈춥니다. 타이머를 조절해주세요.\n",
    "\n",
    "            else:   #다음 페이지로 넘어가는 코드입니다.\n",
    "                select_page = driver.find_element(By.CSS_SELECTOR, f'#Container > div.pageing > a:nth-child({now_pages})').click()\n",
    "                time.sleep(1) #페이지가 넘어가면서 로딩이 느리면 중간에 멈춥니다. 타이머를 조절해주세요.\n",
    "\n",
    "            print(f'현재는 {now_pages}페이지 입니다.')\n",
    "            for row in range(7, 19): #총 12개의 행입니다.\n",
    "                for col in range(1, 5): #총 4개의 열입니다.\n",
    "                    if col == 1: #첫번째 상품은 다른 형식이라 따로 지정\n",
    "                        product = driver.find_element(By.CSS_SELECTOR, f'#Contents > ul:nth-child({row}) > li.flag > div > a > img').click()\n",
    "                        reviews = driver.find_element(By.CSS_SELECTOR, '#reviewInfo > a').click()\n",
    "                        time.sleep(5) #페이지가 넘어가면서 로딩이 느리면 중간에 멈춥니다. 타이머를 조절해주세요.\n",
    "                        \n",
    "                        #상품이 클릭된 페이지 입니다. 여기서 상품 정보를 긁어오는 코드를 넣으시면 됩니다.\n",
    "\n",
    "                        print(f\"{row-6}행에 {col}열의 항목이 스크랩되었습니다.\")\n",
    "                        driver.back()\n",
    "                    else:\n",
    "                        product = driver.find_element(By.CSS_SELECTOR, f'#Contents > ul:nth-child({row}) > li:nth-child({col}) > div > a > img').click()\n",
    "                        reviews = driver.find_element(By.CSS_SELECTOR, '#reviewInfo > a').click()\n",
    "                        time.sleep(5) #페이지가 넘어가면서 로딩이 느리면 중간에 멈춥니다. 타이머를 조절해주세요.\n",
    "                        \n",
    "                        #상품이 클릭된 페이지 입니다. 여기서 상품 정보를 긁어오는 코드를 넣으시면 됩니다.\n",
    "\n",
    "                        print(f\"{row-6}행에 {col}열의 항목이 스크랩되었습니다.\")\n",
    "                        driver.back()\n",
    "            \n",
    "            if now_pages == 10: #10페이지가 끝나면 다음 페이지로 넘어갑니다.\n",
    "                select_page = driver.find_element(By.CSS_SELECTOR, f'#Container > div.pageing > a:nth-child({now_pages})').click()\n",
    "                time.sleep(1) #페이지가 넘어가면서 로딩이 느리면 중간에 멈춥니다. 타이머를 조절해주세요.\n",
    "\n",
    "    #초기 페이지로 돌아가기 위해서 시도합니다.\n",
    "    start_page = driver.find_element(By.CSS_SELECTOR, '#btnGnbOpen').click()\n",
    "    start_page = driver.find_element(By.CSS_SELECTOR, '#gnbAllMenu > ul > li:nth-child(1) > div:nth-child(2) > p:nth-child(1) > a').click()\n",
    "    print('작업을 완료하고 초기 페이지로 돌아왔습니다.')\n",
    "    "
   ]
  },
  {
   "cell_type": "code",
   "execution_count": 37,
   "metadata": {},
   "outputs": [],
   "source": [
    "#피처 추출 코드\n",
    "#내용이 어느 부분인지 잘 모르겠어서 진행하지 못했습니다. 나머지 부탁드릴게요!\n",
    "name = driver.find_element(By.CSS_SELECTOR,\"#Contents > div.prd_detail_box.renew > div.right_area > div > p.prd_name\").text\n",
    "brand = driver.find_element(By.CSS_SELECTOR,\"#Contents > div.prd_detail_box.renew > div.right_area > div > p.prd_brand\").text\n",
    "price = int(driver.find_element(By.CSS_SELECTOR,\"#Contents > div.prd_detail_box.renew > div.right_area > div > div.price > span > strong\").text.replace(\",\", \"\"))\n",
    "sale_price = int(driver.find_element(By.CSS_SELECTOR,\"#Contents > div.prd_detail_box.renew > div.right_area > div > div.price > span.price-2 > strong\").text.replace(\",\", \"\"))\n",
    "date = driver.find_element(By.CSS_SELECTOR,'#gdasList > li:nth-child(1) > div.review_cont > div.score_area > span.date').text\n",
    "rate = driver.find_element(By.CSS_SELECTOR,'#gdasList > li:nth-child(1) > div.review_cont > div.score_area > span.review_point > span').text\n",
    "id = driver.find_element(By.CSS_SELECTOR,'#gdasList > li:nth-child(1) > div.info > div > p.info_user > a.id').text\n",
    "skin_type = driver.find_element(By.CSS_SELECTOR,'#gdasList > li:nth-child(2) > div.review_cont > div.poll_sample > dl:nth-child(1) > dd > span').text\n",
    "# purchase_type_2 = driver.find_element(By.CSS_SELECTOR,'#gdasList > li:nth-child(9) > div.info > div > div > div:nth-child(1) > a').text\n",
    "select_1_title = driver.find_element(By.CSS_SELECTOR,'#gdasList > li:nth-child(1) > div.review_cont > div.poll_sample > dl:nth-child(1) > dt > span').text\n",
    "select_1_content = driver.find_element(By.CSS_SELECTOR,'#gdasList > li:nth-child(1) > div.review_cont > div.poll_sample > dl:nth-child(1) > dd > span').text\n",
    "select_2_title = driver.find_element(By.CSS_SELECTOR,'#gdasList > li:nth-child(1) > div.review_cont > div.poll_sample > dl:nth-child(2) > dt > span').text\n",
    "select_2_content = driver.find_element(By.CSS_SELECTOR,'#gdasList > li:nth-child(1) > div.review_cont > div.poll_sample > dl:nth-child(2) > dd > span').text\n",
    "select_3_title = driver.find_element(By.CSS_SELECTOR,'#gdasList > li:nth-child(1) > div.review_cont > div.poll_sample > dl:nth-child(3) > dt > span').text\n",
    "select_3_content = driver.find_element(By.CSS_SELECTOR,'#gdasList > li:nth-child(1) > div.review_cont > div.poll_sample > dl:nth-child(3) > dd > span').text\n",
    "txt = driver.find_element(By.CSS_SELECTOR,'#gdasList > li:nth-child(1) > div.review_cont > div.txt_inner').text"
   ]
  },
  {
   "cell_type": "code",
   "execution_count": 38,
   "metadata": {},
   "outputs": [
    {
     "data": {
      "text/plain": [
       "('[단독기획] 넘버즈인 3번 결광가득 에센스 토너 300ml 대용량 기획',\n",
       " '넘버즈인',\n",
       " 24000,\n",
       " 24000,\n",
       " '2023.07.20',\n",
       " '5점만점에 5점',\n",
       " '요니양',\n",
       " '건성에 좋아요')"
      ]
     },
     "execution_count": 38,
     "metadata": {},
     "output_type": "execute_result"
    }
   ],
   "source": [
    "name, brand, price, sale_price, date, rate, id ,skin_type"
   ]
  },
  {
   "cell_type": "code",
   "execution_count": null,
   "metadata": {},
   "outputs": [],
   "source": []
  }
 ],
 "metadata": {
  "kernelspec": {
   "display_name": "nlp",
   "language": "python",
   "name": "python3"
  },
  "language_info": {
   "codemirror_mode": {
    "name": "ipython",
    "version": 3
   },
   "file_extension": ".py",
   "mimetype": "text/x-python",
   "name": "python",
   "nbconvert_exporter": "python",
   "pygments_lexer": "ipython3",
   "version": "3.8.17"
  },
  "orig_nbformat": 4
 },
 "nbformat": 4,
 "nbformat_minor": 2
}
